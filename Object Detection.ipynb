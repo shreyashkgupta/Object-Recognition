{
  "nbformat": 4,
  "nbformat_minor": 0,
  "metadata": {
    "colab": {
      "name": "Object Detection",
      "provenance": [],
      "collapsed_sections": []
    },
    "kernelspec": {
      "name": "python3",
      "display_name": "Python 3"
    }
  },
  "cells": [
    {
      "cell_type": "markdown",
      "metadata": {
        "id": "HmBKSdgAu6tC",
        "colab_type": "text"
      },
      "source": [
        "# Object Detection"
      ]
    },
    {
      "cell_type": "markdown",
      "metadata": {
        "id": "oFMvHJLMvBVz",
        "colab_type": "text"
      },
      "source": [
        "Python program to detect objects in an image using ImageAI"
      ]
    },
    {
      "cell_type": "markdown",
      "metadata": {
        "id": "t0JEuhYFvGZR",
        "colab_type": "text"
      },
      "source": [
        "Author: Shreyash Gupta"
      ]
    },
    {
      "cell_type": "markdown",
      "metadata": {
        "id": "1vbeN5X4vIgJ",
        "colab_type": "text"
      },
      "source": [
        "### Importing necessary modules"
      ]
    },
    {
      "cell_type": "code",
      "metadata": {
        "id": "86OGYCinFiwo",
        "colab_type": "code",
        "colab": {}
      },
      "source": [
        "from imageai.Detection import ObjectDetection\n",
        "import os\n",
        "from IPython.display import Image"
      ],
      "execution_count": 0,
      "outputs": []
    },
    {
      "cell_type": "markdown",
      "metadata": {
        "id": "zZGOZ2nKvwen",
        "colab_type": "text"
      },
      "source": [
        "### Setting path variables"
      ]
    },
    {
      "cell_type": "code",
      "metadata": {
        "id": "o7OFIzGGq4Gi",
        "colab_type": "code",
        "colab": {}
      },
      "source": [
        "# Mounting google drive\n",
        "from google.colab import drive\n",
        "drive.mount('/content/drive')"
      ],
      "execution_count": 0,
      "outputs": []
    },
    {
      "cell_type": "code",
      "metadata": {
        "id": "uvESOXxPFqmV",
        "colab_type": "code",
        "colab": {}
      },
      "source": [
        "# Saving path to variable\n",
        "execution_path = '/content/drive/My Drive'"
      ],
      "execution_count": 0,
      "outputs": []
    },
    {
      "cell_type": "markdown",
      "metadata": {
        "id": "Jx1H3VGkwFC6",
        "colab_type": "text"
      },
      "source": [
        "### Loading the detector model"
      ]
    },
    {
      "cell_type": "code",
      "metadata": {
        "id": "5oy1x2DpFvrR",
        "colab_type": "code",
        "colab": {}
      },
      "source": [
        "detector = ObjectDetection()\n",
        "detector.setModelTypeAsRetinaNet()\n",
        "detector.setModelPath(os.path.join(execution_path, \"resnet50_coco_best_v2.0.1.h5\"))\n",
        "detector.loadModel()"
      ],
      "execution_count": 0,
      "outputs": []
    },
    {
      "cell_type": "markdown",
      "metadata": {
        "id": "5yu_fxDQwJOi",
        "colab_type": "text"
      },
      "source": [
        "### Making predictions"
      ]
    },
    {
      "cell_type": "code",
      "metadata": {
        "id": "eVspUfLhGX7A",
        "colab_type": "code",
        "colab": {}
      },
      "source": [
        "detections = detector.detectObjectsFromImage(input_image = os.path.join(execution_path, \"image.jpg\"), output_image_path = os.path.join(execution_path, \"imagenew.jpg\"))"
      ],
      "execution_count": 0,
      "outputs": []
    },
    {
      "cell_type": "markdown",
      "metadata": {
        "id": "fG-SKimMwNqW",
        "colab_type": "text"
      },
      "source": [
        "### Displaying results"
      ]
    },
    {
      "cell_type": "code",
      "metadata": {
        "id": "6q-SsdoRtvwA",
        "colab_type": "code",
        "colab": {}
      },
      "source": [
        "# Displaying original image\n",
        "print(\"Original image\")\n",
        "Image(os.path.join(execution_path, \"image.jpg\"))"
      ],
      "execution_count": 0,
      "outputs": []
    },
    {
      "cell_type": "code",
      "metadata": {
        "id": "hn22Yt7lt6pW",
        "colab_type": "code",
        "colab": {}
      },
      "source": [
        "# Displaying tagged image\n",
        "print(\"Tagged image\")\n",
        "Image(os.path.join(execution_path, \"imagenew.jpg\"))"
      ],
      "execution_count": 0,
      "outputs": []
    },
    {
      "cell_type": "code",
      "metadata": {
        "id": "ibrM99vaHBhX",
        "colab_type": "code",
        "colab": {}
      },
      "source": [
        "# Printing probabilities\n",
        "for eachObject in detections:\n",
        "  print(eachObject[\"name\"] , \" : \" , eachObject[\"percentage_probability\"] )"
      ],
      "execution_count": 0,
      "outputs": []
    }
  ]
}